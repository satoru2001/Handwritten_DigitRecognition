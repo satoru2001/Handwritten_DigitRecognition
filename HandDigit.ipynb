{
  "nbformat": 4,
  "nbformat_minor": 0,
  "metadata": {
    "colab": {
      "name": "HandDigit",
      "provenance": [],
      "authorship_tag": "ABX9TyNEpObRUEIF5NonvjP0qZOf",
      "include_colab_link": true
    },
    "kernelspec": {
      "name": "python3",
      "display_name": "Python 3"
    },
    "accelerator": "GPU"
  },
  "cells": [
    {
      "cell_type": "markdown",
      "metadata": {
        "id": "view-in-github",
        "colab_type": "text"
      },
      "source": [
        "<a href=\"https://colab.research.google.com/github/satoru2001/Handwritten_DigitRecognition/blob/master/HandDigit.ipynb\" target=\"_parent\"><img src=\"https://colab.research.google.com/assets/colab-badge.svg\" alt=\"Open In Colab\"/></a>"
      ]
    },
    {
      "cell_type": "markdown",
      "metadata": {
        "id": "H3aDy8hcKb_K",
        "colab_type": "text"
      },
      "source": [
        "# Installing Kaggle and Downloading Dataset"
      ]
    },
    {
      "cell_type": "code",
      "metadata": {
        "id": "C7S4TUu1Bj57",
        "colab_type": "code",
        "colab": {
          "base_uri": "https://localhost:8080/",
          "height": 215
        },
        "outputId": "07b5803b-c273-447c-b110-1cbe107b6102"
      },
      "source": [
        "!pip install kaggle"
      ],
      "execution_count": null,
      "outputs": [
        {
          "output_type": "stream",
          "text": [
            "Requirement already satisfied: kaggle in /usr/local/lib/python3.6/dist-packages (1.5.6)\n",
            "Requirement already satisfied: certifi in /usr/local/lib/python3.6/dist-packages (from kaggle) (2020.6.20)\n",
            "Requirement already satisfied: six>=1.10 in /usr/local/lib/python3.6/dist-packages (from kaggle) (1.12.0)\n",
            "Requirement already satisfied: python-slugify in /usr/local/lib/python3.6/dist-packages (from kaggle) (4.0.0)\n",
            "Requirement already satisfied: requests in /usr/local/lib/python3.6/dist-packages (from kaggle) (2.23.0)\n",
            "Requirement already satisfied: python-dateutil in /usr/local/lib/python3.6/dist-packages (from kaggle) (2.8.1)\n",
            "Requirement already satisfied: tqdm in /usr/local/lib/python3.6/dist-packages (from kaggle) (4.41.1)\n",
            "Requirement already satisfied: urllib3<1.25,>=1.21.1 in /usr/local/lib/python3.6/dist-packages (from kaggle) (1.24.3)\n",
            "Requirement already satisfied: text-unidecode>=1.3 in /usr/local/lib/python3.6/dist-packages (from python-slugify->kaggle) (1.3)\n",
            "Requirement already satisfied: chardet<4,>=3.0.2 in /usr/local/lib/python3.6/dist-packages (from requests->kaggle) (3.0.4)\n",
            "Requirement already satisfied: idna<3,>=2.5 in /usr/local/lib/python3.6/dist-packages (from requests->kaggle) (2.9)\n"
          ],
          "name": "stdout"
        }
      ]
    },
    {
      "cell_type": "code",
      "metadata": {
        "id": "EKOFR2H9Ate2",
        "colab_type": "code",
        "colab": {}
      },
      "source": [
        "!mkdir -p ~/.kaggle\n",
        "!cp kaggle.json ~/.kaggle/\n",
        "!chmod 600 ~/.kaggle/kaggle.json"
      ],
      "execution_count": null,
      "outputs": []
    },
    {
      "cell_type": "code",
      "metadata": {
        "id": "6gGjEb24AySV",
        "colab_type": "code",
        "colab": {
          "base_uri": "https://localhost:8080/",
          "height": 197
        },
        "outputId": "10d098b5-15cf-41d1-e589-c46af7774527"
      },
      "source": [
        "!kaggle competitions download -c digit-recognizer"
      ],
      "execution_count": null,
      "outputs": [
        {
          "output_type": "stream",
          "text": [
            "Warning: Looks like you're using an outdated API Version, please consider updating (server 1.5.6 / client 1.5.4)\n",
            "Downloading train.csv.zip to /content\n",
            "\r  0% 0.00/9.16M [00:00<?, ?B/s]\r 33% 3.00M/9.16M [00:00<00:00, 7.28MB/s]\r 55% 5.00M/9.16M [00:00<00:00, 6.10MB/s]\r 76% 7.00M/9.16M [00:01<00:00, 6.19MB/s]\r 98% 9.00M/9.16M [00:01<00:00, 7.49MB/s]\n",
            "\r100% 9.16M/9.16M [00:01<00:00, 6.77MB/s]\n",
            "Downloading sample_submission.csv to /content\n",
            "\r  0% 0.00/235k [00:00<?, ?B/s]\n",
            "100% 235k/235k [00:00<00:00, 71.0MB/s]\n",
            "Downloading test.csv.zip to /content\n",
            " 82% 5.00M/6.09M [00:00<00:00, 16.2MB/s]\n",
            "100% 6.09M/6.09M [00:00<00:00, 17.5MB/s]\n"
          ],
          "name": "stdout"
        }
      ]
    },
    {
      "cell_type": "markdown",
      "metadata": {
        "id": "277GkY3ZKjWH",
        "colab_type": "text"
      },
      "source": [
        "# Unzipping Train and Test to '/tmp'"
      ]
    },
    {
      "cell_type": "code",
      "metadata": {
        "id": "mTDjjBk5BYvp",
        "colab_type": "code",
        "colab": {}
      },
      "source": [
        "import os\n",
        "import zipfile\n",
        "ref = '/content/train.csv.zip'\n",
        "zip_ref = zipfile.ZipFile(ref,'r')\n",
        "zip_ref.extractall('/tmp')\n",
        "zip_ref.close()"
      ],
      "execution_count": null,
      "outputs": []
    },
    {
      "cell_type": "code",
      "metadata": {
        "id": "lu5fpH6gKPwc",
        "colab_type": "code",
        "colab": {}
      },
      "source": [
        "ref = '/content/test.csv.zip'\n",
        "zip_ref = zipfile.ZipFile(ref,'r')\n",
        "zip_ref.extractall('/tmp')\n",
        "zip_ref.close()"
      ],
      "execution_count": null,
      "outputs": []
    },
    {
      "cell_type": "markdown",
      "metadata": {
        "id": "ElWoFkZpKqy_",
        "colab_type": "text"
      },
      "source": [
        "# Loading Train Data"
      ]
    },
    {
      "cell_type": "code",
      "metadata": {
        "id": "Bfj_9aDDKUFm",
        "colab_type": "code",
        "colab": {}
      },
      "source": [
        "import pandas as pd"
      ],
      "execution_count": null,
      "outputs": []
    },
    {
      "cell_type": "code",
      "metadata": {
        "id": "bwEOubaQLWlV",
        "colab_type": "code",
        "colab": {
          "base_uri": "https://localhost:8080/",
          "height": 408
        },
        "outputId": "a46bd42c-f531-4c58-ec48-a2764a9089b3"
      },
      "source": [
        "df = pd.read_csv('/tmp/train.csv',index_col=None)\n",
        "df.head(10)"
      ],
      "execution_count": null,
      "outputs": [
        {
          "output_type": "execute_result",
          "data": {
            "text/html": [
              "<div>\n",
              "<style scoped>\n",
              "    .dataframe tbody tr th:only-of-type {\n",
              "        vertical-align: middle;\n",
              "    }\n",
              "\n",
              "    .dataframe tbody tr th {\n",
              "        vertical-align: top;\n",
              "    }\n",
              "\n",
              "    .dataframe thead th {\n",
              "        text-align: right;\n",
              "    }\n",
              "</style>\n",
              "<table border=\"1\" class=\"dataframe\">\n",
              "  <thead>\n",
              "    <tr style=\"text-align: right;\">\n",
              "      <th></th>\n",
              "      <th>label</th>\n",
              "      <th>pixel0</th>\n",
              "      <th>pixel1</th>\n",
              "      <th>pixel2</th>\n",
              "      <th>pixel3</th>\n",
              "      <th>pixel4</th>\n",
              "      <th>pixel5</th>\n",
              "      <th>pixel6</th>\n",
              "      <th>pixel7</th>\n",
              "      <th>pixel8</th>\n",
              "      <th>pixel9</th>\n",
              "      <th>pixel10</th>\n",
              "      <th>pixel11</th>\n",
              "      <th>pixel12</th>\n",
              "      <th>pixel13</th>\n",
              "      <th>pixel14</th>\n",
              "      <th>pixel15</th>\n",
              "      <th>pixel16</th>\n",
              "      <th>pixel17</th>\n",
              "      <th>pixel18</th>\n",
              "      <th>pixel19</th>\n",
              "      <th>pixel20</th>\n",
              "      <th>pixel21</th>\n",
              "      <th>pixel22</th>\n",
              "      <th>pixel23</th>\n",
              "      <th>pixel24</th>\n",
              "      <th>pixel25</th>\n",
              "      <th>pixel26</th>\n",
              "      <th>pixel27</th>\n",
              "      <th>pixel28</th>\n",
              "      <th>pixel29</th>\n",
              "      <th>pixel30</th>\n",
              "      <th>pixel31</th>\n",
              "      <th>pixel32</th>\n",
              "      <th>pixel33</th>\n",
              "      <th>pixel34</th>\n",
              "      <th>pixel35</th>\n",
              "      <th>pixel36</th>\n",
              "      <th>pixel37</th>\n",
              "      <th>pixel38</th>\n",
              "      <th>...</th>\n",
              "      <th>pixel744</th>\n",
              "      <th>pixel745</th>\n",
              "      <th>pixel746</th>\n",
              "      <th>pixel747</th>\n",
              "      <th>pixel748</th>\n",
              "      <th>pixel749</th>\n",
              "      <th>pixel750</th>\n",
              "      <th>pixel751</th>\n",
              "      <th>pixel752</th>\n",
              "      <th>pixel753</th>\n",
              "      <th>pixel754</th>\n",
              "      <th>pixel755</th>\n",
              "      <th>pixel756</th>\n",
              "      <th>pixel757</th>\n",
              "      <th>pixel758</th>\n",
              "      <th>pixel759</th>\n",
              "      <th>pixel760</th>\n",
              "      <th>pixel761</th>\n",
              "      <th>pixel762</th>\n",
              "      <th>pixel763</th>\n",
              "      <th>pixel764</th>\n",
              "      <th>pixel765</th>\n",
              "      <th>pixel766</th>\n",
              "      <th>pixel767</th>\n",
              "      <th>pixel768</th>\n",
              "      <th>pixel769</th>\n",
              "      <th>pixel770</th>\n",
              "      <th>pixel771</th>\n",
              "      <th>pixel772</th>\n",
              "      <th>pixel773</th>\n",
              "      <th>pixel774</th>\n",
              "      <th>pixel775</th>\n",
              "      <th>pixel776</th>\n",
              "      <th>pixel777</th>\n",
              "      <th>pixel778</th>\n",
              "      <th>pixel779</th>\n",
              "      <th>pixel780</th>\n",
              "      <th>pixel781</th>\n",
              "      <th>pixel782</th>\n",
              "      <th>pixel783</th>\n",
              "    </tr>\n",
              "  </thead>\n",
              "  <tbody>\n",
              "    <tr>\n",
              "      <th>0</th>\n",
              "      <td>1</td>\n",
              "      <td>0</td>\n",
              "      <td>0</td>\n",
              "      <td>0</td>\n",
              "      <td>0</td>\n",
              "      <td>0</td>\n",
              "      <td>0</td>\n",
              "      <td>0</td>\n",
              "      <td>0</td>\n",
              "      <td>0</td>\n",
              "      <td>0</td>\n",
              "      <td>0</td>\n",
              "      <td>0</td>\n",
              "      <td>0</td>\n",
              "      <td>0</td>\n",
              "      <td>0</td>\n",
              "      <td>0</td>\n",
              "      <td>0</td>\n",
              "      <td>0</td>\n",
              "      <td>0</td>\n",
              "      <td>0</td>\n",
              "      <td>0</td>\n",
              "      <td>0</td>\n",
              "      <td>0</td>\n",
              "      <td>0</td>\n",
              "      <td>0</td>\n",
              "      <td>0</td>\n",
              "      <td>0</td>\n",
              "      <td>0</td>\n",
              "      <td>0</td>\n",
              "      <td>0</td>\n",
              "      <td>0</td>\n",
              "      <td>0</td>\n",
              "      <td>0</td>\n",
              "      <td>0</td>\n",
              "      <td>0</td>\n",
              "      <td>0</td>\n",
              "      <td>0</td>\n",
              "      <td>0</td>\n",
              "      <td>0</td>\n",
              "      <td>...</td>\n",
              "      <td>0</td>\n",
              "      <td>0</td>\n",
              "      <td>0</td>\n",
              "      <td>0</td>\n",
              "      <td>0</td>\n",
              "      <td>0</td>\n",
              "      <td>0</td>\n",
              "      <td>0</td>\n",
              "      <td>0</td>\n",
              "      <td>0</td>\n",
              "      <td>0</td>\n",
              "      <td>0</td>\n",
              "      <td>0</td>\n",
              "      <td>0</td>\n",
              "      <td>0</td>\n",
              "      <td>0</td>\n",
              "      <td>0</td>\n",
              "      <td>0</td>\n",
              "      <td>0</td>\n",
              "      <td>0</td>\n",
              "      <td>0</td>\n",
              "      <td>0</td>\n",
              "      <td>0</td>\n",
              "      <td>0</td>\n",
              "      <td>0</td>\n",
              "      <td>0</td>\n",
              "      <td>0</td>\n",
              "      <td>0</td>\n",
              "      <td>0</td>\n",
              "      <td>0</td>\n",
              "      <td>0</td>\n",
              "      <td>0</td>\n",
              "      <td>0</td>\n",
              "      <td>0</td>\n",
              "      <td>0</td>\n",
              "      <td>0</td>\n",
              "      <td>0</td>\n",
              "      <td>0</td>\n",
              "      <td>0</td>\n",
              "      <td>0</td>\n",
              "    </tr>\n",
              "    <tr>\n",
              "      <th>1</th>\n",
              "      <td>0</td>\n",
              "      <td>0</td>\n",
              "      <td>0</td>\n",
              "      <td>0</td>\n",
              "      <td>0</td>\n",
              "      <td>0</td>\n",
              "      <td>0</td>\n",
              "      <td>0</td>\n",
              "      <td>0</td>\n",
              "      <td>0</td>\n",
              "      <td>0</td>\n",
              "      <td>0</td>\n",
              "      <td>0</td>\n",
              "      <td>0</td>\n",
              "      <td>0</td>\n",
              "      <td>0</td>\n",
              "      <td>0</td>\n",
              "      <td>0</td>\n",
              "      <td>0</td>\n",
              "      <td>0</td>\n",
              "      <td>0</td>\n",
              "      <td>0</td>\n",
              "      <td>0</td>\n",
              "      <td>0</td>\n",
              "      <td>0</td>\n",
              "      <td>0</td>\n",
              "      <td>0</td>\n",
              "      <td>0</td>\n",
              "      <td>0</td>\n",
              "      <td>0</td>\n",
              "      <td>0</td>\n",
              "      <td>0</td>\n",
              "      <td>0</td>\n",
              "      <td>0</td>\n",
              "      <td>0</td>\n",
              "      <td>0</td>\n",
              "      <td>0</td>\n",
              "      <td>0</td>\n",
              "      <td>0</td>\n",
              "      <td>0</td>\n",
              "      <td>...</td>\n",
              "      <td>0</td>\n",
              "      <td>0</td>\n",
              "      <td>0</td>\n",
              "      <td>0</td>\n",
              "      <td>0</td>\n",
              "      <td>0</td>\n",
              "      <td>0</td>\n",
              "      <td>0</td>\n",
              "      <td>0</td>\n",
              "      <td>0</td>\n",
              "      <td>0</td>\n",
              "      <td>0</td>\n",
              "      <td>0</td>\n",
              "      <td>0</td>\n",
              "      <td>0</td>\n",
              "      <td>0</td>\n",
              "      <td>0</td>\n",
              "      <td>0</td>\n",
              "      <td>0</td>\n",
              "      <td>0</td>\n",
              "      <td>0</td>\n",
              "      <td>0</td>\n",
              "      <td>0</td>\n",
              "      <td>0</td>\n",
              "      <td>0</td>\n",
              "      <td>0</td>\n",
              "      <td>0</td>\n",
              "      <td>0</td>\n",
              "      <td>0</td>\n",
              "      <td>0</td>\n",
              "      <td>0</td>\n",
              "      <td>0</td>\n",
              "      <td>0</td>\n",
              "      <td>0</td>\n",
              "      <td>0</td>\n",
              "      <td>0</td>\n",
              "      <td>0</td>\n",
              "      <td>0</td>\n",
              "      <td>0</td>\n",
              "      <td>0</td>\n",
              "    </tr>\n",
              "    <tr>\n",
              "      <th>2</th>\n",
              "      <td>1</td>\n",
              "      <td>0</td>\n",
              "      <td>0</td>\n",
              "      <td>0</td>\n",
              "      <td>0</td>\n",
              "      <td>0</td>\n",
              "      <td>0</td>\n",
              "      <td>0</td>\n",
              "      <td>0</td>\n",
              "      <td>0</td>\n",
              "      <td>0</td>\n",
              "      <td>0</td>\n",
              "      <td>0</td>\n",
              "      <td>0</td>\n",
              "      <td>0</td>\n",
              "      <td>0</td>\n",
              "      <td>0</td>\n",
              "      <td>0</td>\n",
              "      <td>0</td>\n",
              "      <td>0</td>\n",
              "      <td>0</td>\n",
              "      <td>0</td>\n",
              "      <td>0</td>\n",
              "      <td>0</td>\n",
              "      <td>0</td>\n",
              "      <td>0</td>\n",
              "      <td>0</td>\n",
              "      <td>0</td>\n",
              "      <td>0</td>\n",
              "      <td>0</td>\n",
              "      <td>0</td>\n",
              "      <td>0</td>\n",
              "      <td>0</td>\n",
              "      <td>0</td>\n",
              "      <td>0</td>\n",
              "      <td>0</td>\n",
              "      <td>0</td>\n",
              "      <td>0</td>\n",
              "      <td>0</td>\n",
              "      <td>0</td>\n",
              "      <td>...</td>\n",
              "      <td>0</td>\n",
              "      <td>0</td>\n",
              "      <td>0</td>\n",
              "      <td>0</td>\n",
              "      <td>0</td>\n",
              "      <td>0</td>\n",
              "      <td>0</td>\n",
              "      <td>0</td>\n",
              "      <td>0</td>\n",
              "      <td>0</td>\n",
              "      <td>0</td>\n",
              "      <td>0</td>\n",
              "      <td>0</td>\n",
              "      <td>0</td>\n",
              "      <td>0</td>\n",
              "      <td>0</td>\n",
              "      <td>0</td>\n",
              "      <td>0</td>\n",
              "      <td>0</td>\n",
              "      <td>0</td>\n",
              "      <td>0</td>\n",
              "      <td>0</td>\n",
              "      <td>0</td>\n",
              "      <td>0</td>\n",
              "      <td>0</td>\n",
              "      <td>0</td>\n",
              "      <td>0</td>\n",
              "      <td>0</td>\n",
              "      <td>0</td>\n",
              "      <td>0</td>\n",
              "      <td>0</td>\n",
              "      <td>0</td>\n",
              "      <td>0</td>\n",
              "      <td>0</td>\n",
              "      <td>0</td>\n",
              "      <td>0</td>\n",
              "      <td>0</td>\n",
              "      <td>0</td>\n",
              "      <td>0</td>\n",
              "      <td>0</td>\n",
              "    </tr>\n",
              "    <tr>\n",
              "      <th>3</th>\n",
              "      <td>4</td>\n",
              "      <td>0</td>\n",
              "      <td>0</td>\n",
              "      <td>0</td>\n",
              "      <td>0</td>\n",
              "      <td>0</td>\n",
              "      <td>0</td>\n",
              "      <td>0</td>\n",
              "      <td>0</td>\n",
              "      <td>0</td>\n",
              "      <td>0</td>\n",
              "      <td>0</td>\n",
              "      <td>0</td>\n",
              "      <td>0</td>\n",
              "      <td>0</td>\n",
              "      <td>0</td>\n",
              "      <td>0</td>\n",
              "      <td>0</td>\n",
              "      <td>0</td>\n",
              "      <td>0</td>\n",
              "      <td>0</td>\n",
              "      <td>0</td>\n",
              "      <td>0</td>\n",
              "      <td>0</td>\n",
              "      <td>0</td>\n",
              "      <td>0</td>\n",
              "      <td>0</td>\n",
              "      <td>0</td>\n",
              "      <td>0</td>\n",
              "      <td>0</td>\n",
              "      <td>0</td>\n",
              "      <td>0</td>\n",
              "      <td>0</td>\n",
              "      <td>0</td>\n",
              "      <td>0</td>\n",
              "      <td>0</td>\n",
              "      <td>0</td>\n",
              "      <td>0</td>\n",
              "      <td>0</td>\n",
              "      <td>0</td>\n",
              "      <td>...</td>\n",
              "      <td>0</td>\n",
              "      <td>0</td>\n",
              "      <td>0</td>\n",
              "      <td>0</td>\n",
              "      <td>0</td>\n",
              "      <td>0</td>\n",
              "      <td>0</td>\n",
              "      <td>0</td>\n",
              "      <td>0</td>\n",
              "      <td>0</td>\n",
              "      <td>0</td>\n",
              "      <td>0</td>\n",
              "      <td>0</td>\n",
              "      <td>0</td>\n",
              "      <td>0</td>\n",
              "      <td>0</td>\n",
              "      <td>0</td>\n",
              "      <td>0</td>\n",
              "      <td>0</td>\n",
              "      <td>0</td>\n",
              "      <td>0</td>\n",
              "      <td>0</td>\n",
              "      <td>0</td>\n",
              "      <td>0</td>\n",
              "      <td>0</td>\n",
              "      <td>0</td>\n",
              "      <td>0</td>\n",
              "      <td>0</td>\n",
              "      <td>0</td>\n",
              "      <td>0</td>\n",
              "      <td>0</td>\n",
              "      <td>0</td>\n",
              "      <td>0</td>\n",
              "      <td>0</td>\n",
              "      <td>0</td>\n",
              "      <td>0</td>\n",
              "      <td>0</td>\n",
              "      <td>0</td>\n",
              "      <td>0</td>\n",
              "      <td>0</td>\n",
              "    </tr>\n",
              "    <tr>\n",
              "      <th>4</th>\n",
              "      <td>0</td>\n",
              "      <td>0</td>\n",
              "      <td>0</td>\n",
              "      <td>0</td>\n",
              "      <td>0</td>\n",
              "      <td>0</td>\n",
              "      <td>0</td>\n",
              "      <td>0</td>\n",
              "      <td>0</td>\n",
              "      <td>0</td>\n",
              "      <td>0</td>\n",
              "      <td>0</td>\n",
              "      <td>0</td>\n",
              "      <td>0</td>\n",
              "      <td>0</td>\n",
              "      <td>0</td>\n",
              "      <td>0</td>\n",
              "      <td>0</td>\n",
              "      <td>0</td>\n",
              "      <td>0</td>\n",
              "      <td>0</td>\n",
              "      <td>0</td>\n",
              "      <td>0</td>\n",
              "      <td>0</td>\n",
              "      <td>0</td>\n",
              "      <td>0</td>\n",
              "      <td>0</td>\n",
              "      <td>0</td>\n",
              "      <td>0</td>\n",
              "      <td>0</td>\n",
              "      <td>0</td>\n",
              "      <td>0</td>\n",
              "      <td>0</td>\n",
              "      <td>0</td>\n",
              "      <td>0</td>\n",
              "      <td>0</td>\n",
              "      <td>0</td>\n",
              "      <td>0</td>\n",
              "      <td>0</td>\n",
              "      <td>0</td>\n",
              "      <td>...</td>\n",
              "      <td>0</td>\n",
              "      <td>0</td>\n",
              "      <td>0</td>\n",
              "      <td>0</td>\n",
              "      <td>0</td>\n",
              "      <td>0</td>\n",
              "      <td>0</td>\n",
              "      <td>0</td>\n",
              "      <td>0</td>\n",
              "      <td>0</td>\n",
              "      <td>0</td>\n",
              "      <td>0</td>\n",
              "      <td>0</td>\n",
              "      <td>0</td>\n",
              "      <td>0</td>\n",
              "      <td>0</td>\n",
              "      <td>0</td>\n",
              "      <td>0</td>\n",
              "      <td>0</td>\n",
              "      <td>0</td>\n",
              "      <td>0</td>\n",
              "      <td>0</td>\n",
              "      <td>0</td>\n",
              "      <td>0</td>\n",
              "      <td>0</td>\n",
              "      <td>0</td>\n",
              "      <td>0</td>\n",
              "      <td>0</td>\n",
              "      <td>0</td>\n",
              "      <td>0</td>\n",
              "      <td>0</td>\n",
              "      <td>0</td>\n",
              "      <td>0</td>\n",
              "      <td>0</td>\n",
              "      <td>0</td>\n",
              "      <td>0</td>\n",
              "      <td>0</td>\n",
              "      <td>0</td>\n",
              "      <td>0</td>\n",
              "      <td>0</td>\n",
              "    </tr>\n",
              "    <tr>\n",
              "      <th>5</th>\n",
              "      <td>0</td>\n",
              "      <td>0</td>\n",
              "      <td>0</td>\n",
              "      <td>0</td>\n",
              "      <td>0</td>\n",
              "      <td>0</td>\n",
              "      <td>0</td>\n",
              "      <td>0</td>\n",
              "      <td>0</td>\n",
              "      <td>0</td>\n",
              "      <td>0</td>\n",
              "      <td>0</td>\n",
              "      <td>0</td>\n",
              "      <td>0</td>\n",
              "      <td>0</td>\n",
              "      <td>0</td>\n",
              "      <td>0</td>\n",
              "      <td>0</td>\n",
              "      <td>0</td>\n",
              "      <td>0</td>\n",
              "      <td>0</td>\n",
              "      <td>0</td>\n",
              "      <td>0</td>\n",
              "      <td>0</td>\n",
              "      <td>0</td>\n",
              "      <td>0</td>\n",
              "      <td>0</td>\n",
              "      <td>0</td>\n",
              "      <td>0</td>\n",
              "      <td>0</td>\n",
              "      <td>0</td>\n",
              "      <td>0</td>\n",
              "      <td>0</td>\n",
              "      <td>0</td>\n",
              "      <td>0</td>\n",
              "      <td>0</td>\n",
              "      <td>0</td>\n",
              "      <td>0</td>\n",
              "      <td>0</td>\n",
              "      <td>0</td>\n",
              "      <td>...</td>\n",
              "      <td>0</td>\n",
              "      <td>0</td>\n",
              "      <td>0</td>\n",
              "      <td>0</td>\n",
              "      <td>0</td>\n",
              "      <td>0</td>\n",
              "      <td>0</td>\n",
              "      <td>0</td>\n",
              "      <td>0</td>\n",
              "      <td>0</td>\n",
              "      <td>0</td>\n",
              "      <td>0</td>\n",
              "      <td>0</td>\n",
              "      <td>0</td>\n",
              "      <td>0</td>\n",
              "      <td>0</td>\n",
              "      <td>0</td>\n",
              "      <td>0</td>\n",
              "      <td>0</td>\n",
              "      <td>0</td>\n",
              "      <td>0</td>\n",
              "      <td>0</td>\n",
              "      <td>0</td>\n",
              "      <td>0</td>\n",
              "      <td>0</td>\n",
              "      <td>0</td>\n",
              "      <td>0</td>\n",
              "      <td>0</td>\n",
              "      <td>0</td>\n",
              "      <td>0</td>\n",
              "      <td>0</td>\n",
              "      <td>0</td>\n",
              "      <td>0</td>\n",
              "      <td>0</td>\n",
              "      <td>0</td>\n",
              "      <td>0</td>\n",
              "      <td>0</td>\n",
              "      <td>0</td>\n",
              "      <td>0</td>\n",
              "      <td>0</td>\n",
              "    </tr>\n",
              "    <tr>\n",
              "      <th>6</th>\n",
              "      <td>7</td>\n",
              "      <td>0</td>\n",
              "      <td>0</td>\n",
              "      <td>0</td>\n",
              "      <td>0</td>\n",
              "      <td>0</td>\n",
              "      <td>0</td>\n",
              "      <td>0</td>\n",
              "      <td>0</td>\n",
              "      <td>0</td>\n",
              "      <td>0</td>\n",
              "      <td>0</td>\n",
              "      <td>0</td>\n",
              "      <td>0</td>\n",
              "      <td>0</td>\n",
              "      <td>0</td>\n",
              "      <td>0</td>\n",
              "      <td>0</td>\n",
              "      <td>0</td>\n",
              "      <td>0</td>\n",
              "      <td>0</td>\n",
              "      <td>0</td>\n",
              "      <td>0</td>\n",
              "      <td>0</td>\n",
              "      <td>0</td>\n",
              "      <td>0</td>\n",
              "      <td>0</td>\n",
              "      <td>0</td>\n",
              "      <td>0</td>\n",
              "      <td>0</td>\n",
              "      <td>0</td>\n",
              "      <td>0</td>\n",
              "      <td>0</td>\n",
              "      <td>0</td>\n",
              "      <td>0</td>\n",
              "      <td>0</td>\n",
              "      <td>0</td>\n",
              "      <td>0</td>\n",
              "      <td>0</td>\n",
              "      <td>0</td>\n",
              "      <td>...</td>\n",
              "      <td>0</td>\n",
              "      <td>0</td>\n",
              "      <td>0</td>\n",
              "      <td>0</td>\n",
              "      <td>0</td>\n",
              "      <td>0</td>\n",
              "      <td>0</td>\n",
              "      <td>0</td>\n",
              "      <td>0</td>\n",
              "      <td>0</td>\n",
              "      <td>0</td>\n",
              "      <td>0</td>\n",
              "      <td>0</td>\n",
              "      <td>0</td>\n",
              "      <td>0</td>\n",
              "      <td>0</td>\n",
              "      <td>0</td>\n",
              "      <td>0</td>\n",
              "      <td>0</td>\n",
              "      <td>0</td>\n",
              "      <td>0</td>\n",
              "      <td>0</td>\n",
              "      <td>0</td>\n",
              "      <td>0</td>\n",
              "      <td>0</td>\n",
              "      <td>0</td>\n",
              "      <td>0</td>\n",
              "      <td>0</td>\n",
              "      <td>0</td>\n",
              "      <td>0</td>\n",
              "      <td>0</td>\n",
              "      <td>0</td>\n",
              "      <td>0</td>\n",
              "      <td>0</td>\n",
              "      <td>0</td>\n",
              "      <td>0</td>\n",
              "      <td>0</td>\n",
              "      <td>0</td>\n",
              "      <td>0</td>\n",
              "      <td>0</td>\n",
              "    </tr>\n",
              "    <tr>\n",
              "      <th>7</th>\n",
              "      <td>3</td>\n",
              "      <td>0</td>\n",
              "      <td>0</td>\n",
              "      <td>0</td>\n",
              "      <td>0</td>\n",
              "      <td>0</td>\n",
              "      <td>0</td>\n",
              "      <td>0</td>\n",
              "      <td>0</td>\n",
              "      <td>0</td>\n",
              "      <td>0</td>\n",
              "      <td>0</td>\n",
              "      <td>0</td>\n",
              "      <td>0</td>\n",
              "      <td>0</td>\n",
              "      <td>0</td>\n",
              "      <td>0</td>\n",
              "      <td>0</td>\n",
              "      <td>0</td>\n",
              "      <td>0</td>\n",
              "      <td>0</td>\n",
              "      <td>0</td>\n",
              "      <td>0</td>\n",
              "      <td>0</td>\n",
              "      <td>0</td>\n",
              "      <td>0</td>\n",
              "      <td>0</td>\n",
              "      <td>0</td>\n",
              "      <td>0</td>\n",
              "      <td>0</td>\n",
              "      <td>0</td>\n",
              "      <td>0</td>\n",
              "      <td>0</td>\n",
              "      <td>0</td>\n",
              "      <td>0</td>\n",
              "      <td>0</td>\n",
              "      <td>0</td>\n",
              "      <td>0</td>\n",
              "      <td>0</td>\n",
              "      <td>0</td>\n",
              "      <td>...</td>\n",
              "      <td>0</td>\n",
              "      <td>0</td>\n",
              "      <td>0</td>\n",
              "      <td>0</td>\n",
              "      <td>0</td>\n",
              "      <td>0</td>\n",
              "      <td>0</td>\n",
              "      <td>0</td>\n",
              "      <td>0</td>\n",
              "      <td>0</td>\n",
              "      <td>0</td>\n",
              "      <td>0</td>\n",
              "      <td>0</td>\n",
              "      <td>0</td>\n",
              "      <td>0</td>\n",
              "      <td>0</td>\n",
              "      <td>0</td>\n",
              "      <td>0</td>\n",
              "      <td>0</td>\n",
              "      <td>0</td>\n",
              "      <td>0</td>\n",
              "      <td>0</td>\n",
              "      <td>0</td>\n",
              "      <td>0</td>\n",
              "      <td>0</td>\n",
              "      <td>0</td>\n",
              "      <td>0</td>\n",
              "      <td>0</td>\n",
              "      <td>0</td>\n",
              "      <td>0</td>\n",
              "      <td>0</td>\n",
              "      <td>0</td>\n",
              "      <td>0</td>\n",
              "      <td>0</td>\n",
              "      <td>0</td>\n",
              "      <td>0</td>\n",
              "      <td>0</td>\n",
              "      <td>0</td>\n",
              "      <td>0</td>\n",
              "      <td>0</td>\n",
              "    </tr>\n",
              "    <tr>\n",
              "      <th>8</th>\n",
              "      <td>5</td>\n",
              "      <td>0</td>\n",
              "      <td>0</td>\n",
              "      <td>0</td>\n",
              "      <td>0</td>\n",
              "      <td>0</td>\n",
              "      <td>0</td>\n",
              "      <td>0</td>\n",
              "      <td>0</td>\n",
              "      <td>0</td>\n",
              "      <td>0</td>\n",
              "      <td>0</td>\n",
              "      <td>0</td>\n",
              "      <td>0</td>\n",
              "      <td>0</td>\n",
              "      <td>0</td>\n",
              "      <td>0</td>\n",
              "      <td>0</td>\n",
              "      <td>0</td>\n",
              "      <td>0</td>\n",
              "      <td>0</td>\n",
              "      <td>0</td>\n",
              "      <td>0</td>\n",
              "      <td>0</td>\n",
              "      <td>0</td>\n",
              "      <td>0</td>\n",
              "      <td>0</td>\n",
              "      <td>0</td>\n",
              "      <td>0</td>\n",
              "      <td>0</td>\n",
              "      <td>0</td>\n",
              "      <td>0</td>\n",
              "      <td>0</td>\n",
              "      <td>0</td>\n",
              "      <td>0</td>\n",
              "      <td>0</td>\n",
              "      <td>0</td>\n",
              "      <td>0</td>\n",
              "      <td>0</td>\n",
              "      <td>0</td>\n",
              "      <td>...</td>\n",
              "      <td>0</td>\n",
              "      <td>0</td>\n",
              "      <td>0</td>\n",
              "      <td>0</td>\n",
              "      <td>0</td>\n",
              "      <td>0</td>\n",
              "      <td>0</td>\n",
              "      <td>0</td>\n",
              "      <td>0</td>\n",
              "      <td>0</td>\n",
              "      <td>0</td>\n",
              "      <td>0</td>\n",
              "      <td>0</td>\n",
              "      <td>0</td>\n",
              "      <td>0</td>\n",
              "      <td>0</td>\n",
              "      <td>0</td>\n",
              "      <td>0</td>\n",
              "      <td>0</td>\n",
              "      <td>0</td>\n",
              "      <td>0</td>\n",
              "      <td>0</td>\n",
              "      <td>0</td>\n",
              "      <td>0</td>\n",
              "      <td>0</td>\n",
              "      <td>0</td>\n",
              "      <td>0</td>\n",
              "      <td>0</td>\n",
              "      <td>0</td>\n",
              "      <td>0</td>\n",
              "      <td>0</td>\n",
              "      <td>0</td>\n",
              "      <td>0</td>\n",
              "      <td>0</td>\n",
              "      <td>0</td>\n",
              "      <td>0</td>\n",
              "      <td>0</td>\n",
              "      <td>0</td>\n",
              "      <td>0</td>\n",
              "      <td>0</td>\n",
              "    </tr>\n",
              "    <tr>\n",
              "      <th>9</th>\n",
              "      <td>3</td>\n",
              "      <td>0</td>\n",
              "      <td>0</td>\n",
              "      <td>0</td>\n",
              "      <td>0</td>\n",
              "      <td>0</td>\n",
              "      <td>0</td>\n",
              "      <td>0</td>\n",
              "      <td>0</td>\n",
              "      <td>0</td>\n",
              "      <td>0</td>\n",
              "      <td>0</td>\n",
              "      <td>0</td>\n",
              "      <td>0</td>\n",
              "      <td>0</td>\n",
              "      <td>0</td>\n",
              "      <td>0</td>\n",
              "      <td>0</td>\n",
              "      <td>0</td>\n",
              "      <td>0</td>\n",
              "      <td>0</td>\n",
              "      <td>0</td>\n",
              "      <td>0</td>\n",
              "      <td>0</td>\n",
              "      <td>0</td>\n",
              "      <td>0</td>\n",
              "      <td>0</td>\n",
              "      <td>0</td>\n",
              "      <td>0</td>\n",
              "      <td>0</td>\n",
              "      <td>0</td>\n",
              "      <td>0</td>\n",
              "      <td>0</td>\n",
              "      <td>0</td>\n",
              "      <td>0</td>\n",
              "      <td>0</td>\n",
              "      <td>0</td>\n",
              "      <td>0</td>\n",
              "      <td>0</td>\n",
              "      <td>0</td>\n",
              "      <td>...</td>\n",
              "      <td>0</td>\n",
              "      <td>0</td>\n",
              "      <td>0</td>\n",
              "      <td>0</td>\n",
              "      <td>0</td>\n",
              "      <td>0</td>\n",
              "      <td>0</td>\n",
              "      <td>0</td>\n",
              "      <td>0</td>\n",
              "      <td>0</td>\n",
              "      <td>0</td>\n",
              "      <td>0</td>\n",
              "      <td>0</td>\n",
              "      <td>0</td>\n",
              "      <td>0</td>\n",
              "      <td>0</td>\n",
              "      <td>0</td>\n",
              "      <td>0</td>\n",
              "      <td>0</td>\n",
              "      <td>0</td>\n",
              "      <td>0</td>\n",
              "      <td>0</td>\n",
              "      <td>0</td>\n",
              "      <td>0</td>\n",
              "      <td>0</td>\n",
              "      <td>0</td>\n",
              "      <td>0</td>\n",
              "      <td>0</td>\n",
              "      <td>0</td>\n",
              "      <td>0</td>\n",
              "      <td>0</td>\n",
              "      <td>0</td>\n",
              "      <td>0</td>\n",
              "      <td>0</td>\n",
              "      <td>0</td>\n",
              "      <td>0</td>\n",
              "      <td>0</td>\n",
              "      <td>0</td>\n",
              "      <td>0</td>\n",
              "      <td>0</td>\n",
              "    </tr>\n",
              "  </tbody>\n",
              "</table>\n",
              "<p>10 rows × 785 columns</p>\n",
              "</div>"
            ],
            "text/plain": [
              "   label  pixel0  pixel1  pixel2  ...  pixel780  pixel781  pixel782  pixel783\n",
              "0      1       0       0       0  ...         0         0         0         0\n",
              "1      0       0       0       0  ...         0         0         0         0\n",
              "2      1       0       0       0  ...         0         0         0         0\n",
              "3      4       0       0       0  ...         0         0         0         0\n",
              "4      0       0       0       0  ...         0         0         0         0\n",
              "5      0       0       0       0  ...         0         0         0         0\n",
              "6      7       0       0       0  ...         0         0         0         0\n",
              "7      3       0       0       0  ...         0         0         0         0\n",
              "8      5       0       0       0  ...         0         0         0         0\n",
              "9      3       0       0       0  ...         0         0         0         0\n",
              "\n",
              "[10 rows x 785 columns]"
            ]
          },
          "metadata": {
            "tags": []
          },
          "execution_count": 7
        }
      ]
    },
    {
      "cell_type": "markdown",
      "metadata": {
        "id": "5vaHtUHAKxP1",
        "colab_type": "text"
      },
      "source": [
        "# Splitting to Labels,Images and reshaping Images to (28,28,1)"
      ]
    },
    {
      "cell_type": "code",
      "metadata": {
        "id": "mecM6lJOq9V9",
        "colab_type": "code",
        "colab": {
          "base_uri": "https://localhost:8080/",
          "height": 35
        },
        "outputId": "aba21906-0c7d-4726-9fe8-60e009d6c712"
      },
      "source": [
        "labels = df['label'].to_numpy()\n",
        "labels[:10]"
      ],
      "execution_count": null,
      "outputs": [
        {
          "output_type": "execute_result",
          "data": {
            "text/plain": [
              "array([4, 8, 7, 4, 1, 1, 5, 1, 3, 5])"
            ]
          },
          "metadata": {
            "tags": []
          },
          "execution_count": 9
        }
      ]
    },
    {
      "cell_type": "code",
      "metadata": {
        "id": "fTt50imfMRJ2",
        "colab_type": "code",
        "colab": {}
      },
      "source": [
        "image_df = df.drop(axis=1,columns = 'label')\n",
        "images = image_df.to_numpy()"
      ],
      "execution_count": null,
      "outputs": []
    },
    {
      "cell_type": "code",
      "metadata": {
        "id": "KDl7zq5vMUZT",
        "colab_type": "code",
        "colab": {}
      },
      "source": [
        "images = images.reshape(42000,28,28)"
      ],
      "execution_count": null,
      "outputs": []
    },
    {
      "cell_type": "code",
      "metadata": {
        "id": "YxTlxeulTuaz",
        "colab_type": "code",
        "colab": {
          "base_uri": "https://localhost:8080/",
          "height": 35
        },
        "outputId": "bdb2e1ae-6499-45c2-c90c-0dad1a770b26"
      },
      "source": [
        "images.shape"
      ],
      "execution_count": null,
      "outputs": [
        {
          "output_type": "execute_result",
          "data": {
            "text/plain": [
              "(42000, 28, 28)"
            ]
          },
          "metadata": {
            "tags": []
          },
          "execution_count": 12
        }
      ]
    },
    {
      "cell_type": "code",
      "metadata": {
        "id": "1XIb1ZySse-m",
        "colab_type": "code",
        "colab": {}
      },
      "source": [
        "import numpy as np\n",
        "images = np.expand_dims(images,axis=-1)\n",
        "images = images/255"
      ],
      "execution_count": null,
      "outputs": []
    },
    {
      "cell_type": "code",
      "metadata": {
        "id": "vkMxTf0p0KPX",
        "colab_type": "code",
        "colab": {
          "base_uri": "https://localhost:8080/",
          "height": 35
        },
        "outputId": "9da353ff-588d-41cc-c108-dbee370f6fbb"
      },
      "source": [
        "images[1].shape"
      ],
      "execution_count": null,
      "outputs": [
        {
          "output_type": "execute_result",
          "data": {
            "text/plain": [
              "(28, 28, 1)"
            ]
          },
          "metadata": {
            "tags": []
          },
          "execution_count": 14
        }
      ]
    },
    {
      "cell_type": "markdown",
      "metadata": {
        "id": "FKrgNOBGLGTQ",
        "colab_type": "text"
      },
      "source": [
        "# Test Train Split and Model"
      ]
    },
    {
      "cell_type": "code",
      "metadata": {
        "id": "moCpCCMLTCGi",
        "colab_type": "code",
        "colab": {}
      },
      "source": [
        "import tensorflow\n",
        "from tensorflow.keras.layers import Conv2D,MaxPooling2D,Dense,BatchNormalization,Dropout,Lambda,Flatten\n",
        "from tensorflow.keras.models import Sequential,Model\n",
        "from tensorflow.keras.regularizers import l1\n",
        "from tensorflow.keras.callbacks import ModelCheckpoint, ReduceLROnPlateau\n",
        "from sklearn.model_selection import train_test_split\n",
        "from tensorflow.keras.optimizers import Adam\n",
        "from tensorflow.keras.backend import clear_session\n",
        "clear_session() \n",
        "opt = Adam(lr=0.0005)"
      ],
      "execution_count": null,
      "outputs": []
    },
    {
      "cell_type": "code",
      "metadata": {
        "id": "ICLuQ5JHtKKR",
        "colab_type": "code",
        "colab": {}
      },
      "source": [
        "x_train,x_test,y_train,y_test = train_test_split(images,labels,test_size=0.1)"
      ],
      "execution_count": null,
      "outputs": []
    },
    {
      "cell_type": "code",
      "metadata": {
        "id": "fM-suNrcvPZQ",
        "colab_type": "code",
        "colab": {
          "base_uri": "https://localhost:8080/",
          "height": 809
        },
        "outputId": "46da2b20-b95e-46df-af66-6130e9f07539"
      },
      "source": [
        "CNN = Sequential()\n",
        "\n",
        "#Convolution layer 1\n",
        "CNN.add(Conv2D(8,(3,3),activation='relu',input_shape=(28,28,1),kernel_regularizer='l2'))\n",
        "CNN.add(MaxPooling2D())\n",
        "CNN.add(BatchNormalization())\n",
        "CNN.add(Dropout(0.2))\n",
        "\n",
        "#Convolution layer 2\n",
        "CNN.add(Conv2D(32,(3,3),activation='relu',kernel_regularizer='l2'))\n",
        "CNN.add(MaxPooling2D())\n",
        "CNN.add(BatchNormalization())\n",
        "CNN.add(Dropout(0.2))\n",
        "\n",
        "#Convolution layer 3\n",
        "CNN.add(Conv2D(64,(3,3),activation='relu',kernel_regularizer='l2'))\n",
        "CNN.add(MaxPooling2D())\n",
        "CNN.add(BatchNormalization())\n",
        "CNN.add(Dropout(0.2))\n",
        "\n",
        "# Flatten Layer\n",
        "CNN.add(Flatten())\n",
        "\n",
        "# Dense Layer 1\n",
        "CNN.add(Dense(1024,activation='relu',kernel_regularizer='l2'))\n",
        "CNN.add(Dropout(0.15))\n",
        "\n",
        "#Dense Layer 2\n",
        "CNN.add(Dense(128,activation='relu',kernel_regularizer='l2'))\n",
        "CNN.add(Dropout(0.15))\n",
        "\n",
        "#Output\n",
        "CNN.add(Dense(10,activation='softmax',kernel_regularizer='l2'))\n",
        "\n",
        "CNN.compile(loss='sparse_categorical_crossentropy',optimizer=opt,metrics=['accuracy'],)\n",
        "\n",
        "CNN.summary()"
      ],
      "execution_count": null,
      "outputs": [
        {
          "output_type": "stream",
          "text": [
            "Model: \"sequential\"\n",
            "_________________________________________________________________\n",
            "Layer (type)                 Output Shape              Param #   \n",
            "=================================================================\n",
            "conv2d (Conv2D)              (None, 26, 26, 8)         80        \n",
            "_________________________________________________________________\n",
            "max_pooling2d (MaxPooling2D) (None, 13, 13, 8)         0         \n",
            "_________________________________________________________________\n",
            "batch_normalization (BatchNo (None, 13, 13, 8)         32        \n",
            "_________________________________________________________________\n",
            "dropout (Dropout)            (None, 13, 13, 8)         0         \n",
            "_________________________________________________________________\n",
            "conv2d_1 (Conv2D)            (None, 11, 11, 32)        2336      \n",
            "_________________________________________________________________\n",
            "max_pooling2d_1 (MaxPooling2 (None, 5, 5, 32)          0         \n",
            "_________________________________________________________________\n",
            "batch_normalization_1 (Batch (None, 5, 5, 32)          128       \n",
            "_________________________________________________________________\n",
            "dropout_1 (Dropout)          (None, 5, 5, 32)          0         \n",
            "_________________________________________________________________\n",
            "conv2d_2 (Conv2D)            (None, 3, 3, 64)          18496     \n",
            "_________________________________________________________________\n",
            "max_pooling2d_2 (MaxPooling2 (None, 1, 1, 64)          0         \n",
            "_________________________________________________________________\n",
            "batch_normalization_2 (Batch (None, 1, 1, 64)          256       \n",
            "_________________________________________________________________\n",
            "dropout_2 (Dropout)          (None, 1, 1, 64)          0         \n",
            "_________________________________________________________________\n",
            "flatten (Flatten)            (None, 64)                0         \n",
            "_________________________________________________________________\n",
            "dense (Dense)                (None, 1024)              66560     \n",
            "_________________________________________________________________\n",
            "dropout_3 (Dropout)          (None, 1024)              0         \n",
            "_________________________________________________________________\n",
            "dense_1 (Dense)              (None, 128)               131200    \n",
            "_________________________________________________________________\n",
            "dropout_4 (Dropout)          (None, 128)               0         \n",
            "_________________________________________________________________\n",
            "dense_2 (Dense)              (None, 10)                1290      \n",
            "=================================================================\n",
            "Total params: 220,378\n",
            "Trainable params: 220,170\n",
            "Non-trainable params: 208\n",
            "_________________________________________________________________\n"
          ],
          "name": "stdout"
        }
      ]
    },
    {
      "cell_type": "markdown",
      "metadata": {
        "id": "TY6CuYUoLUUh",
        "colab_type": "text"
      },
      "source": [
        "# Call Backs for\n",
        "- To stop training when an accuracy of 99% Reached\n",
        "- To decrease Learning rate if previous 2 epochs val_loss is not changed\n",
        "- To store maximum val_accuracy weights"
      ]
    },
    {
      "cell_type": "code",
      "metadata": {
        "id": "cDK03kquzLaS",
        "colab_type": "code",
        "colab": {}
      },
      "source": [
        "class myCallback(tensorflow.keras.callbacks.Callback):\n",
        "  def on_epoch_end(self, epoch, logs={}):\n",
        "    if(logs.get('accuracy')>0.99999):\n",
        "      print(\"\\nReached 99% accuracy so cancelling training!\")\n",
        "      self.model.stop_training = True\n",
        "\n",
        "stop_callback = myCallback()\n",
        "\n",
        "reduce_lr = ReduceLROnPlateau(monitor='val_loss', factor=0.001,\n",
        "                              patience=3, min_lr=0.000001, mode='auto')\n",
        "\n",
        "checkpoint = ModelCheckpoint(\"model_weights.h5\", monitor='val_accuracy',\n",
        "                             save_weights_only=True, mode='max', verbose=1)\n",
        "\n",
        "callbacks = [checkpoint, reduce_lr ,stop_callback]"
      ],
      "execution_count": null,
      "outputs": []
    },
    {
      "cell_type": "markdown",
      "metadata": {
        "id": "shyj7EbyLtyH",
        "colab_type": "text"
      },
      "source": [
        "# Training"
      ]
    },
    {
      "cell_type": "code",
      "metadata": {
        "id": "1yflXRqAyfJ_",
        "colab_type": "code",
        "colab": {
          "base_uri": "https://localhost:8080/",
          "height": 1000
        },
        "outputId": "b2d45d85-47d0-44da-896c-e99c810b3075"
      },
      "source": [
        "history = CNN.fit(x=x_train,y=y_train,batch_size=32,epochs=30,validation_data=(x_test,y_test),shuffle=True,callbacks=callbacks)"
      ],
      "execution_count": null,
      "outputs": [
        {
          "output_type": "stream",
          "text": [
            "Epoch 1/30\n",
            "1175/1182 [============================>.] - ETA: 0s - loss: 0.2973 - accuracy: 0.9699\n",
            "Epoch 00001: saving model to model_weights.h5\n",
            "1182/1182 [==============================] - 5s 4ms/step - loss: 0.2972 - accuracy: 0.9700 - val_loss: 0.2529 - val_accuracy: 0.9821 - lr: 1.0000e-06\n",
            "Epoch 2/30\n",
            "1180/1182 [============================>.] - ETA: 0s - loss: 0.2942 - accuracy: 0.9709\n",
            "Epoch 00002: saving model to model_weights.h5\n",
            "1182/1182 [==============================] - 5s 4ms/step - loss: 0.2942 - accuracy: 0.9708 - val_loss: 0.2525 - val_accuracy: 0.9829 - lr: 1.0000e-06\n",
            "Epoch 3/30\n",
            "1168/1182 [============================>.] - ETA: 0s - loss: 0.2920 - accuracy: 0.9712\n",
            "Epoch 00003: saving model to model_weights.h5\n",
            "1182/1182 [==============================] - 5s 4ms/step - loss: 0.2920 - accuracy: 0.9712 - val_loss: 0.2509 - val_accuracy: 0.9826 - lr: 1.0000e-06\n",
            "Epoch 4/30\n",
            "1180/1182 [============================>.] - ETA: 0s - loss: 0.2940 - accuracy: 0.9702\n",
            "Epoch 00004: saving model to model_weights.h5\n",
            "1182/1182 [==============================] - 5s 4ms/step - loss: 0.2940 - accuracy: 0.9702 - val_loss: 0.2501 - val_accuracy: 0.9826 - lr: 1.0000e-06\n",
            "Epoch 5/30\n",
            "1176/1182 [============================>.] - ETA: 0s - loss: 0.2912 - accuracy: 0.9712\n",
            "Epoch 00005: saving model to model_weights.h5\n",
            "1182/1182 [==============================] - 5s 4ms/step - loss: 0.2909 - accuracy: 0.9713 - val_loss: 0.2487 - val_accuracy: 0.9836 - lr: 1.0000e-06\n",
            "Epoch 6/30\n",
            "1179/1182 [============================>.] - ETA: 0s - loss: 0.2884 - accuracy: 0.9715\n",
            "Epoch 00006: saving model to model_weights.h5\n",
            "1182/1182 [==============================] - 5s 4ms/step - loss: 0.2886 - accuracy: 0.9715 - val_loss: 0.2482 - val_accuracy: 0.9831 - lr: 1.0000e-06\n",
            "Epoch 7/30\n",
            "1179/1182 [============================>.] - ETA: 0s - loss: 0.2891 - accuracy: 0.9716\n",
            "Epoch 00007: saving model to model_weights.h5\n",
            "1182/1182 [==============================] - 5s 4ms/step - loss: 0.2892 - accuracy: 0.9716 - val_loss: 0.2471 - val_accuracy: 0.9836 - lr: 1.0000e-06\n",
            "Epoch 8/30\n",
            "1175/1182 [============================>.] - ETA: 0s - loss: 0.2881 - accuracy: 0.9725\n",
            "Epoch 00008: saving model to model_weights.h5\n",
            "1182/1182 [==============================] - 5s 4ms/step - loss: 0.2878 - accuracy: 0.9726 - val_loss: 0.2470 - val_accuracy: 0.9833 - lr: 1.0000e-06\n",
            "Epoch 9/30\n",
            "1168/1182 [============================>.] - ETA: 0s - loss: 0.2862 - accuracy: 0.9714\n",
            "Epoch 00009: saving model to model_weights.h5\n",
            "1182/1182 [==============================] - 5s 4ms/step - loss: 0.2863 - accuracy: 0.9713 - val_loss: 0.2456 - val_accuracy: 0.9840 - lr: 1.0000e-06\n",
            "Epoch 10/30\n",
            "1182/1182 [==============================] - ETA: 0s - loss: 0.2850 - accuracy: 0.9733\n",
            "Epoch 00010: saving model to model_weights.h5\n",
            "1182/1182 [==============================] - 5s 4ms/step - loss: 0.2850 - accuracy: 0.9733 - val_loss: 0.2452 - val_accuracy: 0.9840 - lr: 1.0000e-06\n",
            "Epoch 11/30\n",
            "1174/1182 [============================>.] - ETA: 0s - loss: 0.2855 - accuracy: 0.9724\n",
            "Epoch 00011: saving model to model_weights.h5\n",
            "1182/1182 [==============================] - 5s 4ms/step - loss: 0.2855 - accuracy: 0.9724 - val_loss: 0.2449 - val_accuracy: 0.9836 - lr: 1.0000e-06\n",
            "Epoch 12/30\n",
            "1178/1182 [============================>.] - ETA: 0s - loss: 0.2825 - accuracy: 0.9737\n",
            "Epoch 00012: saving model to model_weights.h5\n",
            "1182/1182 [==============================] - 5s 4ms/step - loss: 0.2826 - accuracy: 0.9737 - val_loss: 0.2436 - val_accuracy: 0.9845 - lr: 1.0000e-06\n",
            "Epoch 13/30\n",
            "1175/1182 [============================>.] - ETA: 0s - loss: 0.2811 - accuracy: 0.9734\n",
            "Epoch 00013: saving model to model_weights.h5\n",
            "1182/1182 [==============================] - 5s 4ms/step - loss: 0.2812 - accuracy: 0.9734 - val_loss: 0.2433 - val_accuracy: 0.9840 - lr: 1.0000e-06\n",
            "Epoch 14/30\n",
            "1171/1182 [============================>.] - ETA: 0s - loss: 0.2839 - accuracy: 0.9724\n",
            "Epoch 00014: saving model to model_weights.h5\n",
            "1182/1182 [==============================] - 5s 4ms/step - loss: 0.2839 - accuracy: 0.9724 - val_loss: 0.2425 - val_accuracy: 0.9838 - lr: 1.0000e-06\n",
            "Epoch 15/30\n",
            "1176/1182 [============================>.] - ETA: 0s - loss: 0.2815 - accuracy: 0.9730\n",
            "Epoch 00015: saving model to model_weights.h5\n",
            "1182/1182 [==============================] - 5s 4ms/step - loss: 0.2816 - accuracy: 0.9730 - val_loss: 0.2420 - val_accuracy: 0.9843 - lr: 1.0000e-06\n",
            "Epoch 16/30\n",
            "1178/1182 [============================>.] - ETA: 0s - loss: 0.2800 - accuracy: 0.9725\n",
            "Epoch 00016: saving model to model_weights.h5\n",
            "1182/1182 [==============================] - 5s 4ms/step - loss: 0.2799 - accuracy: 0.9725 - val_loss: 0.2419 - val_accuracy: 0.9840 - lr: 1.0000e-06\n",
            "Epoch 17/30\n",
            "1177/1182 [============================>.] - ETA: 0s - loss: 0.2803 - accuracy: 0.9728\n",
            "Epoch 00017: saving model to model_weights.h5\n",
            "1182/1182 [==============================] - 5s 4ms/step - loss: 0.2806 - accuracy: 0.9728 - val_loss: 0.2407 - val_accuracy: 0.9840 - lr: 1.0000e-06\n",
            "Epoch 18/30\n",
            "1181/1182 [============================>.] - ETA: 0s - loss: 0.2809 - accuracy: 0.9730\n",
            "Epoch 00018: saving model to model_weights.h5\n",
            "1182/1182 [==============================] - 5s 4ms/step - loss: 0.2809 - accuracy: 0.9730 - val_loss: 0.2411 - val_accuracy: 0.9836 - lr: 1.0000e-06\n",
            "Epoch 19/30\n",
            "1182/1182 [==============================] - ETA: 0s - loss: 0.2792 - accuracy: 0.9743\n",
            "Epoch 00019: saving model to model_weights.h5\n",
            "1182/1182 [==============================] - 5s 4ms/step - loss: 0.2792 - accuracy: 0.9743 - val_loss: 0.2401 - val_accuracy: 0.9840 - lr: 1.0000e-06\n",
            "Epoch 20/30\n",
            "1180/1182 [============================>.] - ETA: 0s - loss: 0.2797 - accuracy: 0.9734\n",
            "Epoch 00020: saving model to model_weights.h5\n",
            "1182/1182 [==============================] - 5s 4ms/step - loss: 0.2799 - accuracy: 0.9734 - val_loss: 0.2394 - val_accuracy: 0.9845 - lr: 1.0000e-06\n",
            "Epoch 21/30\n",
            "1179/1182 [============================>.] - ETA: 0s - loss: 0.2774 - accuracy: 0.9750\n",
            "Epoch 00021: saving model to model_weights.h5\n",
            "1182/1182 [==============================] - 5s 4ms/step - loss: 0.2775 - accuracy: 0.9750 - val_loss: 0.2398 - val_accuracy: 0.9843 - lr: 1.0000e-06\n",
            "Epoch 22/30\n",
            "1174/1182 [============================>.] - ETA: 0s - loss: 0.2768 - accuracy: 0.9741\n",
            "Epoch 00022: saving model to model_weights.h5\n",
            "1182/1182 [==============================] - 5s 4ms/step - loss: 0.2769 - accuracy: 0.9741 - val_loss: 0.2388 - val_accuracy: 0.9843 - lr: 1.0000e-06\n",
            "Epoch 23/30\n",
            "1179/1182 [============================>.] - ETA: 0s - loss: 0.2768 - accuracy: 0.9748\n",
            "Epoch 00023: saving model to model_weights.h5\n",
            "1182/1182 [==============================] - 5s 4ms/step - loss: 0.2770 - accuracy: 0.9748 - val_loss: 0.2388 - val_accuracy: 0.9848 - lr: 1.0000e-06\n",
            "Epoch 24/30\n",
            "1170/1182 [============================>.] - ETA: 0s - loss: 0.2778 - accuracy: 0.9731\n",
            "Epoch 00024: saving model to model_weights.h5\n",
            "1182/1182 [==============================] - 5s 4ms/step - loss: 0.2778 - accuracy: 0.9731 - val_loss: 0.2385 - val_accuracy: 0.9845 - lr: 1.0000e-06\n",
            "Epoch 25/30\n",
            "1182/1182 [==============================] - ETA: 0s - loss: 0.2746 - accuracy: 0.9748\n",
            "Epoch 00025: saving model to model_weights.h5\n",
            "1182/1182 [==============================] - 5s 4ms/step - loss: 0.2746 - accuracy: 0.9748 - val_loss: 0.2381 - val_accuracy: 0.9845 - lr: 1.0000e-06\n",
            "Epoch 26/30\n",
            "1177/1182 [============================>.] - ETA: 0s - loss: 0.2753 - accuracy: 0.9744\n",
            "Epoch 00026: saving model to model_weights.h5\n",
            "1182/1182 [==============================] - 5s 4ms/step - loss: 0.2757 - accuracy: 0.9744 - val_loss: 0.2375 - val_accuracy: 0.9848 - lr: 1.0000e-06\n",
            "Epoch 27/30\n",
            "1169/1182 [============================>.] - ETA: 0s - loss: 0.2733 - accuracy: 0.9741\n",
            "Epoch 00027: saving model to model_weights.h5\n",
            "1182/1182 [==============================] - 5s 4ms/step - loss: 0.2733 - accuracy: 0.9741 - val_loss: 0.2372 - val_accuracy: 0.9843 - lr: 1.0000e-06\n",
            "Epoch 28/30\n",
            "1181/1182 [============================>.] - ETA: 0s - loss: 0.2738 - accuracy: 0.9749\n",
            "Epoch 00028: saving model to model_weights.h5\n",
            "1182/1182 [==============================] - 5s 4ms/step - loss: 0.2739 - accuracy: 0.9748 - val_loss: 0.2368 - val_accuracy: 0.9843 - lr: 1.0000e-06\n",
            "Epoch 29/30\n",
            "1179/1182 [============================>.] - ETA: 0s - loss: 0.2745 - accuracy: 0.9751\n",
            "Epoch 00029: saving model to model_weights.h5\n",
            "1182/1182 [==============================] - 4s 4ms/step - loss: 0.2745 - accuracy: 0.9751 - val_loss: 0.2361 - val_accuracy: 0.9845 - lr: 1.0000e-06\n",
            "Epoch 30/30\n",
            "1175/1182 [============================>.] - ETA: 0s - loss: 0.2729 - accuracy: 0.9754\n",
            "Epoch 00030: saving model to model_weights.h5\n",
            "1182/1182 [==============================] - 4s 4ms/step - loss: 0.2728 - accuracy: 0.9754 - val_loss: 0.2358 - val_accuracy: 0.9845 - lr: 1.0000e-06\n"
          ],
          "name": "stdout"
        }
      ]
    },
    {
      "cell_type": "markdown",
      "metadata": {
        "id": "pzbFt8PZLwF4",
        "colab_type": "text"
      },
      "source": [
        "# Plotting Training,Testing Accuracies"
      ]
    },
    {
      "cell_type": "code",
      "metadata": {
        "id": "FDkJDfgdz3DC",
        "colab_type": "code",
        "colab": {}
      },
      "source": [
        "import matplotlib.pyplot as plt"
      ],
      "execution_count": null,
      "outputs": []
    },
    {
      "cell_type": "code",
      "metadata": {
        "id": "JcXKszHACenP",
        "colab_type": "code",
        "colab": {
          "base_uri": "https://localhost:8080/",
          "height": 295
        },
        "outputId": "af2c6087-5beb-47dc-92d7-ade9822f1070"
      },
      "source": [
        "plt.plot(history.history['accuracy'])\n",
        "plt.plot(history.history['val_accuracy'])\n",
        "plt.title('model accuracy')\n",
        "plt.ylabel('accuracy')\n",
        "plt.xlabel('epoch')\n",
        "plt.legend(['train', 'test'], loc='upper left')\n",
        "plt.show()"
      ],
      "execution_count": null,
      "outputs": [
        {
          "output_type": "display_data",
          "data": {
            "image/png": "[encoded data removed]",
            "text/plain": [
              "<Figure size 432x288 with 1 Axes>"
            ]
          },
          "metadata": {
            "tags": [],
            "needs_background": "light"
          }
        }
      ]
    },
    {
      "cell_type": "code",
      "metadata": {
        "id": "6aBcfQTKEnRn",
        "colab_type": "code",
        "colab": {
          "base_uri": "https://localhost:8080/",
          "height": 295
        },
        "outputId": "113f4881-63b1-4627-b337-2409aad641a5"
      },
      "source": [
        "plt.plot(history.history['loss'])\n",
        "plt.plot(history.history['val_loss'])\n",
        "plt.title('model loss')\n",
        "plt.ylabel('loss')\n",
        "plt.xlabel('epoch')\n",
        "plt.legend(['train', 'test'], loc='upper left')\n",
        "plt.show()"
      ],
      "execution_count": null,
      "outputs": [
        {
          "output_type": "display_data",
          "data": {
            "image/png": "[encoded data removed]",
            "text/plain": [
              "<Figure size 432x288 with 1 Axes>"
            ]
          },
          "metadata": {
            "tags": [],
            "needs_background": "light"
          }
        }
      ]
    },
    {
      "cell_type": "markdown",
      "metadata": {
        "id": "GqY3l9dZL3a0",
        "colab_type": "text"
      },
      "source": [
        "# Loading Test data,Resize and predicting"
      ]
    },
    {
      "cell_type": "code",
      "metadata": {
        "id": "tMUmv8S1D7np",
        "colab_type": "code",
        "colab": {
          "base_uri": "https://localhost:8080/",
          "height": 35
        },
        "outputId": "d0a8393b-388c-43d2-be77-49c577250585"
      },
      "source": [
        "test_df = pd.read_csv('/tmp/test.csv')\n",
        "test_images = test_df.to_numpy()\n",
        "test_images = test_images.reshape(28000,28,28)\n",
        "test_images = np.expand_dims(test_images,axis=-1)\n",
        "test_images = test_images/255\n",
        "test_images.shape"
      ],
      "execution_count": null,
      "outputs": [
        {
          "output_type": "execute_result",
          "data": {
            "text/plain": [
              "(28000, 28, 28, 1)"
            ]
          },
          "metadata": {
            "tags": []
          },
          "execution_count": 37
        }
      ]
    },
    {
      "cell_type": "code",
      "metadata": {
        "id": "Jjmad8XgD9wS",
        "colab_type": "code",
        "colab": {}
      },
      "source": [
        "predict_model = Model(CNN.input,CNN.output)\n",
        "predict_model.load_weights('model_weights.h5')"
      ],
      "execution_count": null,
      "outputs": []
    },
    {
      "cell_type": "code",
      "metadata": {
        "id": "P131HoYyF1Qf",
        "colab_type": "code",
        "colab": {}
      },
      "source": [
        "predictions = predict_model.predict(test_images)\n",
        "prediction_classes = np.argmax(predictions,axis=1)"
      ],
      "execution_count": null,
      "outputs": []
    },
    {
      "cell_type": "code",
      "metadata": {
        "id": "o84n4o0SGI21",
        "colab_type": "code",
        "colab": {
          "base_uri": "https://localhost:8080/",
          "height": 35
        },
        "outputId": "8ea28b39-16b9-4a28-934f-feff7a8f3149"
      },
      "source": [
        "prediction_classes[:10]"
      ],
      "execution_count": null,
      "outputs": [
        {
          "output_type": "execute_result",
          "data": {
            "text/plain": [
              "array([2, 0, 9, 9, 3, 7, 0, 3, 0, 3])"
            ]
          },
          "metadata": {
            "tags": []
          },
          "execution_count": 55
        }
      ]
    },
    {
      "cell_type": "code",
      "metadata": {
        "id": "lLWtQ80qGMOu",
        "colab_type": "code",
        "colab": {}
      },
      "source": [
        "columns = ['ImageId','Label']"
      ],
      "execution_count": null,
      "outputs": []
    },
    {
      "cell_type": "code",
      "metadata": {
        "id": "_82Ee722Gqjc",
        "colab_type": "code",
        "colab": {
          "base_uri": "https://localhost:8080/",
          "height": 35
        },
        "outputId": "0bdfe455-50d9-414b-ff2c-c702419041f8"
      },
      "source": [
        "ImageId = np.arange(1,28001,1)\n",
        "ImageId.shape"
      ],
      "execution_count": null,
      "outputs": [
        {
          "output_type": "execute_result",
          "data": {
            "text/plain": [
              "(28000,)"
            ]
          },
          "metadata": {
            "tags": []
          },
          "execution_count": 46
        }
      ]
    },
    {
      "cell_type": "code",
      "metadata": {
        "id": "BrB3vJHdISMa",
        "colab_type": "code",
        "colab": {}
      },
      "source": [
        "list_of_tuples = list(zip(ImageId.tolist(),prediction_classes.tolist()))  "
      ],
      "execution_count": null,
      "outputs": []
    },
    {
      "cell_type": "code",
      "metadata": {
        "id": "G3B157ILI-IB",
        "colab_type": "code",
        "colab": {}
      },
      "source": [
        "test_df = pd.DataFrame(list_of_tuples, columns=columns)  "
      ],
      "execution_count": null,
      "outputs": []
    },
    {
      "cell_type": "code",
      "metadata": {
        "id": "OpC_6Q94JQwT",
        "colab_type": "code",
        "colab": {}
      },
      "source": [
        "test_df.to_csv('test.csv',index=False)"
      ],
      "execution_count": null,
      "outputs": []
    },
    {
      "cell_type": "code",
      "metadata": {
        "id": "mI63tWJBJacH",
        "colab_type": "code",
        "colab": {}
      },
      "source": [
        ""
      ],
      "execution_count": null,
      "outputs": []
    }
  ]
}